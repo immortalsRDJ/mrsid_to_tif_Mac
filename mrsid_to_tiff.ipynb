{
 "cells": [
  {
   "cell_type": "code",
   "execution_count": 4,
   "metadata": {},
   "outputs": [],
   "source": [
    "import os\n",
    "from osgeo import gdal"
   ]
  },
  {
   "cell_type": "code",
   "execution_count": 6,
   "metadata": {},
   "outputs": [
    {
     "name": "stdout",
     "output_type": "stream",
     "text": [
      "无法打开文件: Toronto_Picture2011-2021/2012/BDY3.sid\n",
      "无法打开文件: Toronto_Picture2011-2021/2012/CCS3.sid\n",
      "无法打开文件: Toronto_Picture2011-2021/2012/CCS4.sid\n",
      "无法打开文件: Toronto_Picture2011-2021/2012/CCU1.sid\n",
      "无法打开文件: Toronto_Picture2011-2021/2012/CCT4.sid\n",
      "无法打开文件: Toronto_Picture2011-2021/2012/CCU2.sid\n",
      "无法打开文件: Toronto_Picture2011-2021/2012/BDZ3.sid\n",
      "无法打开文件: Toronto_Picture2011-2021/2012/CCT3.sid\n",
      "无法打开文件: Toronto_Picture2011-2021/2012/CCT2.sid\n",
      "无法打开文件: Toronto_Picture2011-2021/2012/BDZ4.sid\n"
     ]
    },
    {
     "name": "stderr",
     "output_type": "stream",
     "text": [
      "ERROR 4: `Toronto_Picture2011-2021/2012/BDY3.sid' not recognized as a supported file format.\n",
      "ERROR 4: `Toronto_Picture2011-2021/2012/CCS3.sid' not recognized as a supported file format.\n",
      "ERROR 4: `Toronto_Picture2011-2021/2012/CCS4.sid' not recognized as a supported file format.\n",
      "ERROR 4: `Toronto_Picture2011-2021/2012/CCU1.sid' not recognized as a supported file format.\n",
      "ERROR 4: `Toronto_Picture2011-2021/2012/CCT4.sid' not recognized as a supported file format.\n",
      "ERROR 4: `Toronto_Picture2011-2021/2012/CCU2.sid' not recognized as a supported file format.\n",
      "ERROR 4: `Toronto_Picture2011-2021/2012/BDZ3.sid' not recognized as a supported file format.\n",
      "ERROR 4: `Toronto_Picture2011-2021/2012/CCT3.sid' not recognized as a supported file format.\n",
      "ERROR 4: `Toronto_Picture2011-2021/2012/CCT2.sid' not recognized as a supported file format.\n",
      "ERROR 4: `Toronto_Picture2011-2021/2012/BDZ4.sid' not recognized as a supported file format.\n"
     ]
    }
   ],
   "source": [
    "def convert_mrsid_to_tiff_batch(input_dir, output_dir):\n",
    "    # 获取输入目录中的所有.sid文件\n",
    "    files = [f for f in os.listdir(input_dir) if f.endswith('.sid')]\n",
    "    \n",
    "    if not files:\n",
    "        print(\"没有找到任何.sid文件\")\n",
    "        return\n",
    "    \n",
    "    # 确保输出目录存在\n",
    "    if not os.path.exists(output_dir):\n",
    "        os.makedirs(output_dir)\n",
    "    \n",
    "    for file in files:\n",
    "        input_sid = os.path.join(input_dir, file)\n",
    "        output_tiff = os.path.join(output_dir, os.path.splitext(file)[0] + '.tif')\n",
    "        \n",
    "        # 打开MrSID文件\n",
    "        dataset = gdal.Open(input_sid)\n",
    "        if not dataset:\n",
    "            print(f\"无法打开文件: {input_sid}\")\n",
    "            continue\n",
    "        \n",
    "        # 转换为TIFF格式\n",
    "        gdal.Translate(output_tiff, dataset)\n",
    "        print(f\"转换成功: {input_sid} -> {output_tiff}\")\n",
    "\n",
    "# 示例使用\n",
    "input_directory = \"Toronto_Picture2011-2021/2012\"  # 替换为你的MrSID文件目录\n",
    "output_directory = \"Trans_output/2012\" # 替换为你想要的输出TIFF文件目录\n",
    "\n",
    "convert_mrsid_to_tiff_batch(input_directory, output_directory)\n",
    "\n"
   ]
  }
 ],
 "metadata": {
  "kernelspec": {
   "display_name": "base",
   "language": "python",
   "name": "python3"
  },
  "language_info": {
   "codemirror_mode": {
    "name": "ipython",
    "version": 3
   },
   "file_extension": ".py",
   "mimetype": "text/x-python",
   "name": "python",
   "nbconvert_exporter": "python",
   "pygments_lexer": "ipython3",
   "version": "3.12.3"
  }
 },
 "nbformat": 4,
 "nbformat_minor": 2
}
